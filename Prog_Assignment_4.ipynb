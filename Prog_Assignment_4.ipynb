{
 "cells": [
  {
   "cell_type": "markdown",
   "metadata": {},
   "source": [
    "1. Write a Python Program to Find the Factorial of a Number?"
   ]
  },
  {
   "cell_type": "code",
   "execution_count": 1,
   "metadata": {},
   "outputs": [],
   "source": [
    "def fact(nbr):\n",
    "    if nbr == 0:\n",
    "        return 1\n",
    "    elif nbr == 1:\n",
    "        return 1\n",
    "    return nbr*fact(nbr-1)"
   ]
  },
  {
   "cell_type": "code",
   "execution_count": 2,
   "metadata": {},
   "outputs": [
    {
     "data": {
      "text/plain": [
       "(720, 1, 1)"
      ]
     },
     "execution_count": 2,
     "metadata": {},
     "output_type": "execute_result"
    }
   ],
   "source": [
    "fact(6), fact(0), fact(1) "
   ]
  },
  {
   "cell_type": "markdown",
   "metadata": {},
   "source": [
    "2. Write a Python Program to Display the multiplication Table?"
   ]
  },
  {
   "cell_type": "code",
   "execution_count": 3,
   "metadata": {},
   "outputs": [
    {
     "name": "stdout",
     "output_type": "stream",
     "text": [
      "Enter the nbr to display multiplication table: 10\n",
      "10 X 0 = 0\n",
      "10 X 1 = 10\n",
      "10 X 2 = 20\n",
      "10 X 3 = 30\n",
      "10 X 4 = 40\n",
      "10 X 5 = 50\n",
      "10 X 6 = 60\n",
      "10 X 7 = 70\n",
      "10 X 8 = 80\n",
      "10 X 9 = 90\n",
      "10 X 10 = 100\n"
     ]
    }
   ],
   "source": [
    "num = int(input('Enter the nbr to display multiplication table: '))\n",
    "for i in range(0,11):\n",
    "    print(f'{num} X {i} = {num*i}')"
   ]
  },
  {
   "cell_type": "markdown",
   "metadata": {},
   "source": [
    "3. Write a Python Program to Print the Fibonacci sequence?"
   ]
  },
  {
   "cell_type": "code",
   "execution_count": 4,
   "metadata": {},
   "outputs": [
    {
     "name": "stdout",
     "output_type": "stream",
     "text": [
      "0\n",
      "1\n",
      "1\n",
      "2\n",
      "3\n",
      "5\n",
      "8\n",
      "13\n",
      "21\n",
      "34\n"
     ]
    }
   ],
   "source": [
    "a, b = 0, 1\n",
    "for i in range(10):\n",
    "    print(a)\n",
    "    a, b = b, a+b"
   ]
  },
  {
   "cell_type": "markdown",
   "metadata": {},
   "source": [
    "4. Write a Python Program to Check Armstrong Number?"
   ]
  },
  {
   "cell_type": "code",
   "execution_count": 5,
   "metadata": {},
   "outputs": [
    {
     "name": "stdout",
     "output_type": "stream",
     "text": [
      "Enter a nbr: 407\n",
      "407 is an armstrong nbr\n"
     ]
    }
   ],
   "source": [
    "nbr = input('Enter a nbr: ')\n",
    "sum, a = 0, int(nbr)\n",
    "while a > 0:\n",
    "    sum += ((a%10)**(len(nbr)))\n",
    "    a //= 10\n",
    "    \n",
    "if int(nbr) == sum:\n",
    "    print(f'{nbr} is an armstrong nbr')\n",
    "else:\n",
    "    print(f'{nbr} is not an armstrong nbr')"
   ]
  },
  {
   "cell_type": "markdown",
   "metadata": {},
   "source": [
    "5. Write a Python Program to Find Armstrong Number in an Interval?"
   ]
  },
  {
   "cell_type": "code",
   "execution_count": 6,
   "metadata": {},
   "outputs": [
    {
     "name": "stdout",
     "output_type": "stream",
     "text": [
      "153 is an armstrong nbr\n",
      "370 is an armstrong nbr\n",
      "371 is an armstrong nbr\n",
      "407 is an armstrong nbr\n"
     ]
    }
   ],
   "source": [
    "for i in range(100,1000):\n",
    "    sum, a = 0, i\n",
    "    while a > 0:\n",
    "        sum += ((a%10)**(len(str(i))))\n",
    "        a //= 10\n",
    "    if i == sum:\n",
    "        print(f'{i} is an armstrong nbr')"
   ]
  },
  {
   "cell_type": "markdown",
   "metadata": {},
   "source": [
    "6. Write a Python Program to Find the Sum of Natural Numbers?"
   ]
  },
  {
   "cell_type": "code",
   "execution_count": 7,
   "metadata": {},
   "outputs": [
    {
     "name": "stdout",
     "output_type": "stream",
     "text": [
      "Enter a nbr: 5\n",
      "Sum of 5 is 15\n"
     ]
    }
   ],
   "source": [
    "nbr = int(input('Enter a nbr: '))\n",
    "if nbr < 0:\n",
    "    print(\"Nbr is not a natural nbr\")\n",
    "else:\n",
    "    sum, i = 0, 0\n",
    "    while i < nbr+1:\n",
    "        sum += i\n",
    "        i += 1\n",
    "    print(f'Sum of {nbr} is {sum}')"
   ]
  },
  {
   "cell_type": "code",
   "execution_count": null,
   "metadata": {},
   "outputs": [],
   "source": []
  }
 ],
 "metadata": {
  "kernelspec": {
   "display_name": "Python 3",
   "language": "python",
   "name": "python3"
  },
  "language_info": {
   "codemirror_mode": {
    "name": "ipython",
    "version": 3
   },
   "file_extension": ".py",
   "mimetype": "text/x-python",
   "name": "python",
   "nbconvert_exporter": "python",
   "pygments_lexer": "ipython3",
   "version": "3.7.6"
  }
 },
 "nbformat": 4,
 "nbformat_minor": 4
}
